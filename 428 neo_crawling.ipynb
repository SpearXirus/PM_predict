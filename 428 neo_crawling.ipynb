{
 "cells": [
  {
   "cell_type": "code",
   "execution_count": 209,
   "metadata": {},
   "outputs": [],
   "source": [
    "import numpy as np\n",
    "import requests\n",
    "from bs4 import BeautifulSoup\n",
    "from selenium import webdriver\n",
    "from selenium.webdriver.common.by import By\n",
    "import time\n",
    "import joblib"
   ]
  },
  {
   "cell_type": "code",
   "execution_count": 157,
   "metadata": {},
   "outputs": [],
   "source": [
    "url = 'https://search.naver.com/search.naver?where=nexearch&sm=top_hty&fbm=1&ie=utf8&query=%EB%82%A0%EC%94%A8'\n",
    "url1 = 'https://search.naver.com/search.naver?where=nexearch&sm=top_hty&fbm=1&ie=utf8&query=%EB%AF%B8%EC%84%B8%EB%A8%BC%EC%A7%80'\n",
    "url2 = 'https://search.naver.com/search.naver?where=nexearch&sm=top_hty&fbm=1&ie=utf8&query=%EC%B4%88%EB%AF%B8%EC%84%B8%EB%A8%BC%EC%A7%80'"
   ]
  },
  {
   "cell_type": "code",
   "execution_count": 158,
   "metadata": {},
   "outputs": [],
   "source": [
    "driver = webdriver.Chrome()\n",
    "driver.get(url)\n",
    "time.sleep(1)"
   ]
  },
  {
   "cell_type": "code",
   "execution_count": 159,
   "metadata": {},
   "outputs": [],
   "source": [
    "time.sleep(1)\n",
    "driver.find_element(By.CLASS_NAME, 'title_select').click()"
   ]
  },
  {
   "cell_type": "code",
   "execution_count": 160,
   "metadata": {},
   "outputs": [],
   "source": [
    "driver.find_elements(By.CLASS_NAME, 'item_link')[1].click()\n",
    "time.sleep(1)"
   ]
  },
  {
   "cell_type": "code",
   "execution_count": 161,
   "metadata": {},
   "outputs": [],
   "source": [
    "time.sleep(1)\n",
    "soup = BeautifulSoup(driver.page_source, 'html.parser')"
   ]
  },
  {
   "cell_type": "code",
   "execution_count": 162,
   "metadata": {},
   "outputs": [],
   "source": [
    "temperatures = [int(soup.select('.temperature_text')[0].text.strip().split('도')[1].strip('°'))]"
   ]
  },
  {
   "cell_type": "code",
   "execution_count": 163,
   "metadata": {},
   "outputs": [],
   "source": [
    "for i in range(23):\n",
    "    temperatures.append(int(soup.select('.num')[i].text.strip('°')))"
   ]
  },
  {
   "cell_type": "code",
   "execution_count": 164,
   "metadata": {},
   "outputs": [],
   "source": [
    "temperature = sum(temperatures) / len(temperatures)"
   ]
  },
  {
   "cell_type": "code",
   "execution_count": 165,
   "metadata": {},
   "outputs": [
    {
     "data": {
      "text/plain": [
       "15.083333333333334"
      ]
     },
     "execution_count": 165,
     "metadata": {},
     "output_type": "execute_result"
    }
   ],
   "source": [
    "temperature"
   ]
  },
  {
   "cell_type": "code",
   "execution_count": 166,
   "metadata": {},
   "outputs": [],
   "source": [
    "rains = []\n",
    "for i in range(24):\n",
    "    rains.append(float(soup.select('.data_inner')[i].text.strip()))"
   ]
  },
  {
   "cell_type": "code",
   "execution_count": 167,
   "metadata": {},
   "outputs": [],
   "source": [
    "rain = sum(rains)"
   ]
  },
  {
   "cell_type": "code",
   "execution_count": 168,
   "metadata": {},
   "outputs": [
    {
     "data": {
      "text/plain": [
       "0.0"
      ]
     },
     "execution_count": 168,
     "metadata": {},
     "output_type": "execute_result"
    }
   ],
   "source": [
    "rain"
   ]
  },
  {
   "cell_type": "code",
   "execution_count": 169,
   "metadata": {},
   "outputs": [],
   "source": [
    "humidities = [int(soup.select('.sort')[1].text.split()[1].strip('%'))]"
   ]
  },
  {
   "cell_type": "code",
   "execution_count": 170,
   "metadata": {},
   "outputs": [],
   "source": [
    "for i in range(23):\n",
    "    humidities.append(int(soup.select('.num')[i+144].text))"
   ]
  },
  {
   "cell_type": "code",
   "execution_count": 171,
   "metadata": {},
   "outputs": [],
   "source": [
    "humidity = sum(humidities) / len(humidities)"
   ]
  },
  {
   "cell_type": "code",
   "execution_count": 172,
   "metadata": {},
   "outputs": [
    {
     "data": {
      "text/plain": [
       "40.583333333333336"
      ]
     },
     "execution_count": 172,
     "metadata": {},
     "output_type": "execute_result"
    }
   ],
   "source": [
    "humidity"
   ]
  },
  {
   "cell_type": "code",
   "execution_count": 188,
   "metadata": {},
   "outputs": [],
   "source": [
    "def convert_wind(wind):\n",
    "    way = wind.split()[0]\n",
    "    speed = float(wind.split()[1])\n",
    "    converted_wind = np.zeros(16)\n",
    "    if way == '북풍':\n",
    "        converted_wind = np.array([speed, 0, 0, 0, 0, 0, 0, 0,\n",
    "                                   0, 0, 0, 0, 0, 0, 0, 0])\n",
    "    if way == '북북동풍':\n",
    "        converted_wind = np.array([0, speed, 0, 0, 0, 0, 0, 0,\n",
    "                                   0, 0, 0, 0, 0, 0, 0, 0])\n",
    "    if way == '북동풍':\n",
    "        converted_wind = np.array([0, 0, speed, 0, 0, 0, 0, 0,\n",
    "                                   0, 0, 0, 0, 0, 0, 0, 0])\n",
    "    if way == '동북동풍':\n",
    "        converted_wind = np.array([0, 0, 0, speed, 0, 0, 0, 0,\n",
    "                                   0, 0, 0, 0, 0, 0, 0, 0])\n",
    "    if way == '동풍':\n",
    "        converted_wind = np.array([0, 0, 0, 0, speed, 0, 0, 0,\n",
    "                                   0, 0, 0, 0, 0, 0, 0, 0])\n",
    "    if way == '동남동풍':\n",
    "        converted_wind = np.array([0, 0, 0, 0, 0, speed, 0, 0,\n",
    "                                   0, 0, 0, 0, 0, 0, 0, 0])\n",
    "    if way == '남동풍':\n",
    "        converted_wind = np.array([0, 0, 0, 0, 0, 0, speed, 0,\n",
    "                                   0, 0, 0, 0, 0, 0, 0, 0])\n",
    "    if way == '남남동':\n",
    "        converted_wind = np.array([0, 0, 0, 0, 0, 0, 0, speed,\n",
    "                                   0, 0, 0, 0, 0, 0, 0, 0])\n",
    "    if way == '남풍':\n",
    "        converted_wind = np.array([0, 0, 0, 0, 0, 0, 0, 0,\n",
    "                                   speed, 0, 0, 0, 0, 0, 0, 0])\n",
    "    if way == '남남서':\n",
    "        converted_wind = np.array([0, 0, 0, 0, 0, 0, 0, 0,\n",
    "                                   0, speed, 0, 0, 0, 0, 0, 0])\n",
    "    if way == '남서풍':\n",
    "        converted_wind = np.array([0, 0, 0, 0, 0, 0, 0, 0,\n",
    "                                   0, 0, speed, 0, 0, 0, 0, 0])\n",
    "    if way == '서남서풍':\n",
    "        converted_wind = np.array([0, 0, 0, 0, 0, 0, 0, 0,\n",
    "                                   0, 0, 0, speed, 0, 0, 0, 0])\n",
    "    if way == '서풍':\n",
    "        converted_wind = np.array([0, 0, 0, 0, 0, 0, 0, 0,\n",
    "                                   0, 0, 0, 0, speed, 0, 0, 0])\n",
    "    if way == '서북서풍':\n",
    "        converted_wind = np.array([0, 0, 0, 0, 0, 0, 0, 0,\n",
    "                                   0, 0, 0, 0, 0, speed, 0, 0])\n",
    "    if way == '북서풍':\n",
    "        converted_wind = np.array([0, 0, 0, 0, 0, 0, 0, 0,\n",
    "                                   0, 0, 0, 0, 0, 0, speed, 0])\n",
    "    if way == '북북서풍':\n",
    "        converted_wind = np.array([0, 0, 0, 0, 0, 0, 0, 0,\n",
    "                                   0, 0, 0, 0, 0, 0, 0, speed])\n",
    "    return converted_wind"
   ]
  },
  {
   "cell_type": "code",
   "execution_count": 189,
   "metadata": {},
   "outputs": [],
   "source": [
    "winds = [soup.select('.sort')[2].text.replace('\\n',' ').strip().strip('m/s')]"
   ]
  },
  {
   "cell_type": "code",
   "execution_count": 190,
   "metadata": {},
   "outputs": [],
   "source": [
    "for i in range(23):\n",
    "    winds.append(soup.select('.value')[i+72].text + ' ' + soup.select('.num')[i+72].text)"
   ]
  },
  {
   "cell_type": "code",
   "execution_count": 191,
   "metadata": {},
   "outputs": [
    {
     "data": {
      "text/plain": [
       "['서북서풍 2.7',\n",
       " '서북서풍 5',\n",
       " '서북서풍 5',\n",
       " '서풍 5',\n",
       " '서남서풍 4',\n",
       " '서남서풍 3',\n",
       " '서남서풍 3',\n",
       " '서남서풍 2',\n",
       " '서남서풍 2',\n",
       " '서남서풍 2',\n",
       " '남서풍 2',\n",
       " '남풍 2',\n",
       " '남동풍 2',\n",
       " '동남동풍 2',\n",
       " '동남동풍 2',\n",
       " '동남동풍 2',\n",
       " '동풍 2',\n",
       " '동풍 2',\n",
       " '동풍 2',\n",
       " '동풍 3',\n",
       " '동남동풍 3',\n",
       " '남풍 3',\n",
       " '남남서풍 3',\n",
       " '남서풍 3']"
      ]
     },
     "execution_count": 191,
     "metadata": {},
     "output_type": "execute_result"
    }
   ],
   "source": [
    "winds"
   ]
  },
  {
   "cell_type": "code",
   "execution_count": 192,
   "metadata": {},
   "outputs": [],
   "source": [
    "converted_winds = []\n",
    "for wind in winds:\n",
    "    converted_winds.append(convert_wind(wind))"
   ]
  },
  {
   "cell_type": "code",
   "execution_count": 193,
   "metadata": {},
   "outputs": [
    {
     "data": {
      "text/plain": [
       "[array([0. , 0. , 0. , 0. , 0. , 0. , 0. , 0. , 0. , 0. , 0. , 0. , 0. ,\n",
       "        2.7, 0. , 0. ]),\n",
       " array([0., 0., 0., 0., 0., 0., 0., 0., 0., 0., 0., 0., 0., 5., 0., 0.]),\n",
       " array([0., 0., 0., 0., 0., 0., 0., 0., 0., 0., 0., 0., 0., 5., 0., 0.]),\n",
       " array([0., 0., 0., 0., 0., 0., 0., 0., 0., 0., 0., 0., 5., 0., 0., 0.]),\n",
       " array([0., 0., 0., 0., 0., 0., 0., 0., 0., 0., 0., 4., 0., 0., 0., 0.]),\n",
       " array([0., 0., 0., 0., 0., 0., 0., 0., 0., 0., 0., 3., 0., 0., 0., 0.]),\n",
       " array([0., 0., 0., 0., 0., 0., 0., 0., 0., 0., 0., 3., 0., 0., 0., 0.]),\n",
       " array([0., 0., 0., 0., 0., 0., 0., 0., 0., 0., 0., 2., 0., 0., 0., 0.]),\n",
       " array([0., 0., 0., 0., 0., 0., 0., 0., 0., 0., 0., 2., 0., 0., 0., 0.]),\n",
       " array([0., 0., 0., 0., 0., 0., 0., 0., 0., 0., 0., 2., 0., 0., 0., 0.]),\n",
       " array([0., 0., 0., 0., 0., 0., 0., 0., 0., 0., 2., 0., 0., 0., 0., 0.]),\n",
       " array([0., 0., 0., 0., 0., 0., 0., 0., 2., 0., 0., 0., 0., 0., 0., 0.]),\n",
       " array([0., 0., 0., 0., 0., 0., 2., 0., 0., 0., 0., 0., 0., 0., 0., 0.]),\n",
       " array([0., 0., 0., 0., 0., 2., 0., 0., 0., 0., 0., 0., 0., 0., 0., 0.]),\n",
       " array([0., 0., 0., 0., 0., 2., 0., 0., 0., 0., 0., 0., 0., 0., 0., 0.]),\n",
       " array([0., 0., 0., 0., 0., 2., 0., 0., 0., 0., 0., 0., 0., 0., 0., 0.]),\n",
       " array([0., 0., 0., 0., 2., 0., 0., 0., 0., 0., 0., 0., 0., 0., 0., 0.]),\n",
       " array([0., 0., 0., 0., 2., 0., 0., 0., 0., 0., 0., 0., 0., 0., 0., 0.]),\n",
       " array([0., 0., 0., 0., 2., 0., 0., 0., 0., 0., 0., 0., 0., 0., 0., 0.]),\n",
       " array([0., 0., 0., 0., 3., 0., 0., 0., 0., 0., 0., 0., 0., 0., 0., 0.]),\n",
       " array([0., 0., 0., 0., 0., 3., 0., 0., 0., 0., 0., 0., 0., 0., 0., 0.]),\n",
       " array([0., 0., 0., 0., 0., 0., 0., 0., 3., 0., 0., 0., 0., 0., 0., 0.]),\n",
       " array([0., 0., 0., 0., 0., 0., 0., 0., 0., 0., 0., 0., 0., 0., 0., 0.]),\n",
       " array([0., 0., 0., 0., 0., 0., 0., 0., 0., 0., 3., 0., 0., 0., 0., 0.])]"
      ]
     },
     "execution_count": 193,
     "metadata": {},
     "output_type": "execute_result"
    }
   ],
   "source": [
    "converted_winds"
   ]
  },
  {
   "cell_type": "code",
   "execution_count": 195,
   "metadata": {},
   "outputs": [
    {
     "data": {
      "text/plain": [
       "array([ 0. ,  0. ,  0. ,  0. ,  9. ,  9. ,  2. ,  0. ,  5. ,  0. ,  5. ,\n",
       "       16. ,  5. , 12.7,  0. ,  0. ])"
      ]
     },
     "execution_count": 195,
     "metadata": {},
     "output_type": "execute_result"
    }
   ],
   "source": [
    "wind_sum = np.zeros(16)\n",
    "for converted_wind in converted_winds:\n",
    "    wind_sum += converted_wind\n",
    "wind_sum"
   ]
  },
  {
   "cell_type": "code",
   "execution_count": 196,
   "metadata": {},
   "outputs": [
    {
     "data": {
      "text/plain": [
       "array([0.        , 0.        , 0.        , 0.        , 0.375     ,\n",
       "       0.375     , 0.08333333, 0.        , 0.20833333, 0.        ,\n",
       "       0.20833333, 0.66666667, 0.20833333, 0.52916667, 0.        ,\n",
       "       0.        ])"
      ]
     },
     "execution_count": 196,
     "metadata": {},
     "output_type": "execute_result"
    }
   ],
   "source": [
    "wind = wind_sum / 24\n",
    "wind"
   ]
  },
  {
   "cell_type": "code",
   "execution_count": 197,
   "metadata": {},
   "outputs": [],
   "source": [
    "driver.close()"
   ]
  },
  {
   "cell_type": "code",
   "execution_count": 198,
   "metadata": {},
   "outputs": [],
   "source": [
    "res1 = requests.get(url1)\n",
    "soup1 = BeautifulSoup(res1.text, 'html.parser')"
   ]
  },
  {
   "cell_type": "code",
   "execution_count": 204,
   "metadata": {},
   "outputs": [
    {
     "data": {
      "text/plain": [
       "34"
      ]
     },
     "execution_count": 204,
     "metadata": {},
     "output_type": "execute_result"
    }
   ],
   "source": [
    "PM10 = int(soup1.select('td > span')[0].text)\n",
    "PM10"
   ]
  },
  {
   "cell_type": "code",
   "execution_count": 205,
   "metadata": {},
   "outputs": [],
   "source": [
    "res2 = requests.get(url2)\n",
    "soup2 = BeautifulSoup(res2.text, 'html.parser')"
   ]
  },
  {
   "cell_type": "code",
   "execution_count": 206,
   "metadata": {},
   "outputs": [
    {
     "data": {
      "text/plain": [
       "11"
      ]
     },
     "execution_count": 206,
     "metadata": {},
     "output_type": "execute_result"
    }
   ],
   "source": [
    "PM25 = int(soup2.select('td > span')[0].text)\n",
    "PM25"
   ]
  },
  {
   "cell_type": "code",
   "execution_count": 215,
   "metadata": {},
   "outputs": [],
   "source": [
    "precipitation = [0, 0]\n",
    "if rain > 0:\n",
    "    precipitation = [0, 1]\n",
    "else:\n",
    "    precipitation = [1, 0]"
   ]
  },
  {
   "cell_type": "code",
   "execution_count": 216,
   "metadata": {},
   "outputs": [
    {
     "data": {
      "text/plain": [
       "[[34,\n",
       "  11,\n",
       "  15.083333333333334,\n",
       "  0.0,\n",
       "  40.583333333333336,\n",
       "  0.0,\n",
       "  0.0,\n",
       "  0.0,\n",
       "  0.0,\n",
       "  0.375,\n",
       "  0.375,\n",
       "  0.08333333333333333,\n",
       "  0.0,\n",
       "  0.20833333333333334,\n",
       "  0.0,\n",
       "  0.20833333333333334,\n",
       "  0.6666666666666666,\n",
       "  0.20833333333333334,\n",
       "  0.5291666666666667,\n",
       "  0.0,\n",
       "  0.0,\n",
       "  1,\n",
       "  0]]"
      ]
     },
     "execution_count": 216,
     "metadata": {},
     "output_type": "execute_result"
    }
   ],
   "source": [
    "test_set = [[PM10, PM25, temperature, rain, humidity] + list(wind) + precipitation]\n",
    "test_set"
   ]
  },
  {
   "cell_type": "code",
   "execution_count": 217,
   "metadata": {},
   "outputs": [],
   "source": [
    "scaler = joblib.load('C:/PM_predict/scaler.sav')\n",
    "model = joblib.load('C:/PM_predict/final.model')"
   ]
  },
  {
   "cell_type": "code",
   "execution_count": 224,
   "metadata": {},
   "outputs": [
    {
     "name": "stdout",
     "output_type": "stream",
     "text": [
      "[0]\n",
      "0.219\n"
     ]
    },
    {
     "name": "stderr",
     "output_type": "stream",
     "text": [
      "c:\\Anaconda3\\lib\\site-packages\\sklearn\\base.py:450: UserWarning: X does not have valid feature names, but StandardScaler was fitted with feature names\n",
      "  warnings.warn(\n",
      "c:\\Anaconda3\\lib\\site-packages\\sklearn\\base.py:450: UserWarning: X does not have valid feature names, but RandomForestClassifier was fitted with feature names\n",
      "  warnings.warn(\n",
      "c:\\Anaconda3\\lib\\site-packages\\sklearn\\base.py:450: UserWarning: X does not have valid feature names, but RandomForestClassifier was fitted with feature names\n",
      "  warnings.warn(\n"
     ]
    }
   ],
   "source": [
    "tst = scaler.transform(test_set)\n",
    "predict = model.predict(tst)\n",
    "probablity = model.predict_proba(tst)\n",
    "print(predict)\n",
    "print(probablity[0][1])"
   ]
  },
  {
   "cell_type": "code",
   "execution_count": null,
   "metadata": {},
   "outputs": [],
   "source": []
  }
 ],
 "metadata": {
  "kernelspec": {
   "display_name": "base",
   "language": "python",
   "name": "python3"
  },
  "language_info": {
   "codemirror_mode": {
    "name": "ipython",
    "version": 3
   },
   "file_extension": ".py",
   "mimetype": "text/x-python",
   "name": "python",
   "nbconvert_exporter": "python",
   "pygments_lexer": "ipython3",
   "version": "3.9.13"
  },
  "orig_nbformat": 4
 },
 "nbformat": 4,
 "nbformat_minor": 2
}
