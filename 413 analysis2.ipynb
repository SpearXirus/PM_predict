{
 "cells": [
  {
   "cell_type": "code",
   "execution_count": 1,
   "metadata": {},
   "outputs": [],
   "source": [
    "import numpy as np\n",
    "import pandas as pd\n",
    "import seaborn as sns\n",
    "import matplotlib.pyplot as plt\n",
    "from matplotlib import font_manager, rc\n",
    "font_name = font_manager.FontProperties(fname = \"C:/Windows/Fonts/malgun.ttf\").get_name()\n",
    "rc('font', family = font_name)"
   ]
  },
  {
   "cell_type": "code",
   "execution_count": 2,
   "metadata": {},
   "outputs": [],
   "source": [
    "df = pd.read_csv(\"C:/workspace/data/seoul_PM/df_PM_pre.csv\")"
   ]
  },
  {
   "cell_type": "code",
   "execution_count": 3,
   "metadata": {},
   "outputs": [
    {
     "data": {
      "text/html": [
       "<div>\n",
       "<style scoped>\n",
       "    .dataframe tbody tr th:only-of-type {\n",
       "        vertical-align: middle;\n",
       "    }\n",
       "\n",
       "    .dataframe tbody tr th {\n",
       "        vertical-align: top;\n",
       "    }\n",
       "\n",
       "    .dataframe thead th {\n",
       "        text-align: right;\n",
       "    }\n",
       "</style>\n",
       "<table border=\"1\" class=\"dataframe\">\n",
       "  <thead>\n",
       "    <tr style=\"text-align: right;\">\n",
       "      <th></th>\n",
       "      <th>날짜</th>\n",
       "      <th>미세먼지(PM10)</th>\n",
       "      <th>초미세먼지(PM2.5)</th>\n",
       "      <th>next_PM10</th>\n",
       "      <th>next_PM2.5</th>\n",
       "      <th>next_mask_need</th>\n",
       "      <th>기온(°C)</th>\n",
       "      <th>강수량(mm)</th>\n",
       "      <th>습도(%)</th>\n",
       "      <th>증기압(hPa)</th>\n",
       "      <th>...</th>\n",
       "      <th>풍속(16방위)_140</th>\n",
       "      <th>풍속(16방위)_160</th>\n",
       "      <th>풍속(16방위)_180</th>\n",
       "      <th>풍속(16방위)_200</th>\n",
       "      <th>풍속(16방위)_230</th>\n",
       "      <th>풍속(16방위)_250</th>\n",
       "      <th>풍속(16방위)_270</th>\n",
       "      <th>풍속(16방위)_290</th>\n",
       "      <th>풍속(16방위)_320</th>\n",
       "      <th>풍속(16방위)_340</th>\n",
       "    </tr>\n",
       "  </thead>\n",
       "  <tbody>\n",
       "    <tr>\n",
       "      <th>0</th>\n",
       "      <td>2008-01-01</td>\n",
       "      <td>36.834558</td>\n",
       "      <td>13.160000</td>\n",
       "      <td>35.655399</td>\n",
       "      <td>16.006667</td>\n",
       "      <td>0</td>\n",
       "      <td>-6.337500</td>\n",
       "      <td>0.0</td>\n",
       "      <td>47.541667</td>\n",
       "      <td>1.700000</td>\n",
       "      <td>...</td>\n",
       "      <td>0.0</td>\n",
       "      <td>0.000000</td>\n",
       "      <td>0.0000</td>\n",
       "      <td>0.000000</td>\n",
       "      <td>0.000000</td>\n",
       "      <td>0.000000</td>\n",
       "      <td>1.075000</td>\n",
       "      <td>2.420833</td>\n",
       "      <td>0.079167</td>\n",
       "      <td>0.191667</td>\n",
       "    </tr>\n",
       "    <tr>\n",
       "      <th>1</th>\n",
       "      <td>2008-01-02</td>\n",
       "      <td>35.655399</td>\n",
       "      <td>16.006667</td>\n",
       "      <td>53.705927</td>\n",
       "      <td>25.015480</td>\n",
       "      <td>0</td>\n",
       "      <td>-3.720833</td>\n",
       "      <td>0.0</td>\n",
       "      <td>49.708333</td>\n",
       "      <td>2.175000</td>\n",
       "      <td>...</td>\n",
       "      <td>0.0</td>\n",
       "      <td>0.000000</td>\n",
       "      <td>0.0000</td>\n",
       "      <td>0.050000</td>\n",
       "      <td>0.000000</td>\n",
       "      <td>0.700000</td>\n",
       "      <td>0.441667</td>\n",
       "      <td>0.783333</td>\n",
       "      <td>0.233333</td>\n",
       "      <td>0.000000</td>\n",
       "    </tr>\n",
       "    <tr>\n",
       "      <th>2</th>\n",
       "      <td>2008-01-03</td>\n",
       "      <td>53.705927</td>\n",
       "      <td>25.015480</td>\n",
       "      <td>78.231280</td>\n",
       "      <td>37.075943</td>\n",
       "      <td>1</td>\n",
       "      <td>0.866667</td>\n",
       "      <td>0.0</td>\n",
       "      <td>51.500000</td>\n",
       "      <td>3.250000</td>\n",
       "      <td>...</td>\n",
       "      <td>0.0</td>\n",
       "      <td>0.000000</td>\n",
       "      <td>0.0000</td>\n",
       "      <td>0.000000</td>\n",
       "      <td>0.000000</td>\n",
       "      <td>0.254167</td>\n",
       "      <td>0.908333</td>\n",
       "      <td>0.229167</td>\n",
       "      <td>0.000000</td>\n",
       "      <td>0.104167</td>\n",
       "    </tr>\n",
       "    <tr>\n",
       "      <th>3</th>\n",
       "      <td>2008-01-04</td>\n",
       "      <td>78.231280</td>\n",
       "      <td>37.075943</td>\n",
       "      <td>64.480598</td>\n",
       "      <td>28.653605</td>\n",
       "      <td>0</td>\n",
       "      <td>-0.379167</td>\n",
       "      <td>0.0</td>\n",
       "      <td>55.583333</td>\n",
       "      <td>3.200000</td>\n",
       "      <td>...</td>\n",
       "      <td>0.0</td>\n",
       "      <td>0.000000</td>\n",
       "      <td>0.0000</td>\n",
       "      <td>0.145833</td>\n",
       "      <td>0.000000</td>\n",
       "      <td>0.100000</td>\n",
       "      <td>0.720833</td>\n",
       "      <td>0.708333</td>\n",
       "      <td>0.079167</td>\n",
       "      <td>0.033333</td>\n",
       "    </tr>\n",
       "    <tr>\n",
       "      <th>4</th>\n",
       "      <td>2008-01-05</td>\n",
       "      <td>64.480598</td>\n",
       "      <td>28.653605</td>\n",
       "      <td>78.442576</td>\n",
       "      <td>40.808084</td>\n",
       "      <td>1</td>\n",
       "      <td>1.504167</td>\n",
       "      <td>0.0</td>\n",
       "      <td>60.500000</td>\n",
       "      <td>4.000000</td>\n",
       "      <td>...</td>\n",
       "      <td>0.0</td>\n",
       "      <td>0.000000</td>\n",
       "      <td>0.0000</td>\n",
       "      <td>0.000000</td>\n",
       "      <td>0.062500</td>\n",
       "      <td>0.212500</td>\n",
       "      <td>0.437500</td>\n",
       "      <td>0.437500</td>\n",
       "      <td>0.000000</td>\n",
       "      <td>0.000000</td>\n",
       "    </tr>\n",
       "    <tr>\n",
       "      <th>...</th>\n",
       "      <td>...</td>\n",
       "      <td>...</td>\n",
       "      <td>...</td>\n",
       "      <td>...</td>\n",
       "      <td>...</td>\n",
       "      <td>...</td>\n",
       "      <td>...</td>\n",
       "      <td>...</td>\n",
       "      <td>...</td>\n",
       "      <td>...</td>\n",
       "      <td>...</td>\n",
       "      <td>...</td>\n",
       "      <td>...</td>\n",
       "      <td>...</td>\n",
       "      <td>...</td>\n",
       "      <td>...</td>\n",
       "      <td>...</td>\n",
       "      <td>...</td>\n",
       "      <td>...</td>\n",
       "      <td>...</td>\n",
       "      <td>...</td>\n",
       "    </tr>\n",
       "    <tr>\n",
       "      <th>5452</th>\n",
       "      <td>2022-12-26</td>\n",
       "      <td>46.834038</td>\n",
       "      <td>34.917054</td>\n",
       "      <td>49.191594</td>\n",
       "      <td>36.051107</td>\n",
       "      <td>1</td>\n",
       "      <td>-3.979167</td>\n",
       "      <td>0.0</td>\n",
       "      <td>68.000000</td>\n",
       "      <td>3.054167</td>\n",
       "      <td>...</td>\n",
       "      <td>0.0</td>\n",
       "      <td>0.000000</td>\n",
       "      <td>0.0000</td>\n",
       "      <td>0.058333</td>\n",
       "      <td>0.025000</td>\n",
       "      <td>0.250000</td>\n",
       "      <td>0.150000</td>\n",
       "      <td>0.108333</td>\n",
       "      <td>0.116667</td>\n",
       "      <td>0.079167</td>\n",
       "    </tr>\n",
       "    <tr>\n",
       "      <th>5453</th>\n",
       "      <td>2022-12-27</td>\n",
       "      <td>49.191594</td>\n",
       "      <td>36.051107</td>\n",
       "      <td>34.570833</td>\n",
       "      <td>21.232756</td>\n",
       "      <td>0</td>\n",
       "      <td>-2.641667</td>\n",
       "      <td>0.0</td>\n",
       "      <td>69.208333</td>\n",
       "      <td>3.441667</td>\n",
       "      <td>...</td>\n",
       "      <td>0.0</td>\n",
       "      <td>0.000000</td>\n",
       "      <td>0.0000</td>\n",
       "      <td>0.000000</td>\n",
       "      <td>0.054167</td>\n",
       "      <td>0.037500</td>\n",
       "      <td>0.041667</td>\n",
       "      <td>0.562500</td>\n",
       "      <td>0.025000</td>\n",
       "      <td>0.041667</td>\n",
       "    </tr>\n",
       "    <tr>\n",
       "      <th>5454</th>\n",
       "      <td>2022-12-28</td>\n",
       "      <td>34.570833</td>\n",
       "      <td>21.232756</td>\n",
       "      <td>30.307906</td>\n",
       "      <td>18.484193</td>\n",
       "      <td>0</td>\n",
       "      <td>-2.916667</td>\n",
       "      <td>0.1</td>\n",
       "      <td>58.916667</td>\n",
       "      <td>2.916667</td>\n",
       "      <td>...</td>\n",
       "      <td>0.0</td>\n",
       "      <td>0.000000</td>\n",
       "      <td>0.0000</td>\n",
       "      <td>0.000000</td>\n",
       "      <td>0.104167</td>\n",
       "      <td>0.000000</td>\n",
       "      <td>1.012500</td>\n",
       "      <td>0.766667</td>\n",
       "      <td>0.433333</td>\n",
       "      <td>0.000000</td>\n",
       "    </tr>\n",
       "    <tr>\n",
       "      <th>5455</th>\n",
       "      <td>2022-12-29</td>\n",
       "      <td>30.307906</td>\n",
       "      <td>18.484193</td>\n",
       "      <td>38.443462</td>\n",
       "      <td>27.576923</td>\n",
       "      <td>0</td>\n",
       "      <td>-3.295833</td>\n",
       "      <td>0.0</td>\n",
       "      <td>54.375000</td>\n",
       "      <td>2.600000</td>\n",
       "      <td>...</td>\n",
       "      <td>0.0</td>\n",
       "      <td>0.041667</td>\n",
       "      <td>0.0000</td>\n",
       "      <td>0.087500</td>\n",
       "      <td>0.000000</td>\n",
       "      <td>0.379167</td>\n",
       "      <td>0.275000</td>\n",
       "      <td>0.475000</td>\n",
       "      <td>0.058333</td>\n",
       "      <td>0.000000</td>\n",
       "    </tr>\n",
       "    <tr>\n",
       "      <th>5456</th>\n",
       "      <td>2022-12-30</td>\n",
       "      <td>38.443462</td>\n",
       "      <td>27.576923</td>\n",
       "      <td>44.017628</td>\n",
       "      <td>32.734836</td>\n",
       "      <td>0</td>\n",
       "      <td>-1.383333</td>\n",
       "      <td>0.0</td>\n",
       "      <td>65.708333</td>\n",
       "      <td>3.583333</td>\n",
       "      <td>...</td>\n",
       "      <td>0.0</td>\n",
       "      <td>0.000000</td>\n",
       "      <td>0.0375</td>\n",
       "      <td>0.000000</td>\n",
       "      <td>0.150000</td>\n",
       "      <td>0.325000</td>\n",
       "      <td>0.650000</td>\n",
       "      <td>0.179167</td>\n",
       "      <td>0.045833</td>\n",
       "      <td>0.054167</td>\n",
       "    </tr>\n",
       "  </tbody>\n",
       "</table>\n",
       "<p>5457 rows × 41 columns</p>\n",
       "</div>"
      ],
      "text/plain": [
       "              날짜  미세먼지(PM10)  초미세먼지(PM2.5)  next_PM10  next_PM2.5  \\\n",
       "0     2008-01-01   36.834558     13.160000  35.655399   16.006667   \n",
       "1     2008-01-02   35.655399     16.006667  53.705927   25.015480   \n",
       "2     2008-01-03   53.705927     25.015480  78.231280   37.075943   \n",
       "3     2008-01-04   78.231280     37.075943  64.480598   28.653605   \n",
       "4     2008-01-05   64.480598     28.653605  78.442576   40.808084   \n",
       "...          ...         ...           ...        ...         ...   \n",
       "5452  2022-12-26   46.834038     34.917054  49.191594   36.051107   \n",
       "5453  2022-12-27   49.191594     36.051107  34.570833   21.232756   \n",
       "5454  2022-12-28   34.570833     21.232756  30.307906   18.484193   \n",
       "5455  2022-12-29   30.307906     18.484193  38.443462   27.576923   \n",
       "5456  2022-12-30   38.443462     27.576923  44.017628   32.734836   \n",
       "\n",
       "      next_mask_need    기온(°C)  강수량(mm)      습도(%)  증기압(hPa)  ...  \\\n",
       "0                  0 -6.337500      0.0  47.541667  1.700000  ...   \n",
       "1                  0 -3.720833      0.0  49.708333  2.175000  ...   \n",
       "2                  1  0.866667      0.0  51.500000  3.250000  ...   \n",
       "3                  0 -0.379167      0.0  55.583333  3.200000  ...   \n",
       "4                  1  1.504167      0.0  60.500000  4.000000  ...   \n",
       "...              ...       ...      ...        ...       ...  ...   \n",
       "5452               1 -3.979167      0.0  68.000000  3.054167  ...   \n",
       "5453               0 -2.641667      0.0  69.208333  3.441667  ...   \n",
       "5454               0 -2.916667      0.1  58.916667  2.916667  ...   \n",
       "5455               0 -3.295833      0.0  54.375000  2.600000  ...   \n",
       "5456               0 -1.383333      0.0  65.708333  3.583333  ...   \n",
       "\n",
       "      풍속(16방위)_140  풍속(16방위)_160  풍속(16방위)_180  풍속(16방위)_200  풍속(16방위)_230  \\\n",
       "0              0.0      0.000000        0.0000      0.000000      0.000000   \n",
       "1              0.0      0.000000        0.0000      0.050000      0.000000   \n",
       "2              0.0      0.000000        0.0000      0.000000      0.000000   \n",
       "3              0.0      0.000000        0.0000      0.145833      0.000000   \n",
       "4              0.0      0.000000        0.0000      0.000000      0.062500   \n",
       "...            ...           ...           ...           ...           ...   \n",
       "5452           0.0      0.000000        0.0000      0.058333      0.025000   \n",
       "5453           0.0      0.000000        0.0000      0.000000      0.054167   \n",
       "5454           0.0      0.000000        0.0000      0.000000      0.104167   \n",
       "5455           0.0      0.041667        0.0000      0.087500      0.000000   \n",
       "5456           0.0      0.000000        0.0375      0.000000      0.150000   \n",
       "\n",
       "      풍속(16방위)_250  풍속(16방위)_270  풍속(16방위)_290  풍속(16방위)_320  풍속(16방위)_340  \n",
       "0         0.000000      1.075000      2.420833      0.079167      0.191667  \n",
       "1         0.700000      0.441667      0.783333      0.233333      0.000000  \n",
       "2         0.254167      0.908333      0.229167      0.000000      0.104167  \n",
       "3         0.100000      0.720833      0.708333      0.079167      0.033333  \n",
       "4         0.212500      0.437500      0.437500      0.000000      0.000000  \n",
       "...            ...           ...           ...           ...           ...  \n",
       "5452      0.250000      0.150000      0.108333      0.116667      0.079167  \n",
       "5453      0.037500      0.041667      0.562500      0.025000      0.041667  \n",
       "5454      0.000000      1.012500      0.766667      0.433333      0.000000  \n",
       "5455      0.379167      0.275000      0.475000      0.058333      0.000000  \n",
       "5456      0.325000      0.650000      0.179167      0.045833      0.054167  \n",
       "\n",
       "[5457 rows x 41 columns]"
      ]
     },
     "execution_count": 3,
     "metadata": {},
     "output_type": "execute_result"
    }
   ],
   "source": [
    "df"
   ]
  },
  {
   "cell_type": "code",
   "execution_count": 4,
   "metadata": {},
   "outputs": [
    {
     "data": {
      "text/plain": [
       "Index(['날짜', '미세먼지(PM10)', '초미세먼지(PM2.5)', 'next_PM10', 'next_PM2.5',\n",
       "       'next_mask_need', '기온(°C)', '강수량(mm)', '습도(%)', '증기압(hPa)', '이슬점온도(°C)',\n",
       "       '현지기압(hPa)', '해면기압(hPa)', '일조(hr)', '일사(MJ/m2)', '적설(cm)', '전운량(10분위)',\n",
       "       '중하층운량(10분위)', '최저운고(100m )', '시정(10m)', '지면온도(°C)', '5cm 지중온도(°C)',\n",
       "       '10cm 지중온도(°C)', '20cm 지중온도(°C)', '30cm 지중온도(°C)', '풍속(16방위)_0',\n",
       "       '풍속(16방위)_20', '풍속(16방위)_50', '풍속(16방위)_70', '풍속(16방위)_90',\n",
       "       '풍속(16방위)_110', '풍속(16방위)_140', '풍속(16방위)_160', '풍속(16방위)_180',\n",
       "       '풍속(16방위)_200', '풍속(16방위)_230', '풍속(16방위)_250', '풍속(16방위)_270',\n",
       "       '풍속(16방위)_290', '풍속(16방위)_320', '풍속(16방위)_340'],\n",
       "      dtype='object')"
      ]
     },
     "execution_count": 4,
     "metadata": {},
     "output_type": "execute_result"
    }
   ],
   "source": [
    "df.columns"
   ]
  },
  {
   "cell_type": "code",
   "execution_count": 5,
   "metadata": {},
   "outputs": [
    {
     "data": {
      "text/plain": [
       "['풍속(16방위)_0',\n",
       " '풍속(16방위)_20',\n",
       " '풍속(16방위)_50',\n",
       " '풍속(16방위)_70',\n",
       " '풍속(16방위)_90',\n",
       " '풍속(16방위)_110',\n",
       " '풍속(16방위)_140',\n",
       " '풍속(16방위)_160',\n",
       " '풍속(16방위)_180',\n",
       " '풍속(16방위)_200',\n",
       " '풍속(16방위)_230',\n",
       " '풍속(16방위)_250',\n",
       " '풍속(16방위)_270',\n",
       " '풍속(16방위)_290',\n",
       " '풍속(16방위)_320',\n",
       " '풍속(16방위)_340']"
      ]
     },
     "execution_count": 5,
     "metadata": {},
     "output_type": "execute_result"
    }
   ],
   "source": [
    "col_X1 = ['미세먼지(PM10)', '초미세먼지(PM2.5)', '기온(°C)', '강수량(mm)', '습도(%)', '적설(cm)']\n",
    "col_X2 = list(df.columns[-16:])\n",
    "col_X2"
   ]
  },
  {
   "cell_type": "code",
   "execution_count": 6,
   "metadata": {},
   "outputs": [],
   "source": [
    "col_X = col_X1 + col_X2\n",
    "X = df[col_X]\n",
    "y = df['next_mask_need']"
   ]
  },
  {
   "cell_type": "code",
   "execution_count": 7,
   "metadata": {},
   "outputs": [
    {
     "name": "stderr",
     "output_type": "stream",
     "text": [
      "c:\\Anaconda3\\lib\\site-packages\\seaborn\\_decorators.py:36: FutureWarning: Pass the following variable as a keyword arg: x. From version 0.12, the only valid positional argument will be `data`, and passing other arguments without an explicit keyword will result in an error or misinterpretation.\n",
      "  warnings.warn(\n"
     ]
    },
    {
     "data": {
      "text/plain": [
       "<AxesSubplot:xlabel='next_mask_need', ylabel='count'>"
      ]
     },
     "execution_count": 7,
     "metadata": {},
     "output_type": "execute_result"
    },
    {
     "data": {
      "image/png": "[encoded data removed]",
      "text/plain": [
       "<Figure size 640x480 with 1 Axes>"
      ]
     },
     "metadata": {},
     "output_type": "display_data"
    }
   ],
   "source": [
    "sns.countplot('next_mask_need', data=df)"
   ]
  },
  {
   "cell_type": "code",
   "execution_count": 8,
   "metadata": {},
   "outputs": [
    {
     "data": {
      "text/plain": [
       "0    794\n",
       "1    794\n",
       "Name: next_mask_need, dtype: int64"
      ]
     },
     "execution_count": 8,
     "metadata": {},
     "output_type": "execute_result"
    }
   ],
   "source": [
    "from imblearn.under_sampling import RandomUnderSampler\n",
    "X_sample, y_sample = RandomUnderSampler(random_state=2).fit_resample(X, y)\n",
    "X_samp = pd.DataFrame(data=X_sample, columns=col_X)\n",
    "y_samp = pd.DataFrame(data=y_sample, columns=['next_mask_need'])\n",
    "df_samp = pd.concat([X_samp, y_samp], axis=1)\n",
    "df_samp['next_mask_need'].value_counts()"
   ]
  },
  {
   "cell_type": "code",
   "execution_count": 9,
   "metadata": {},
   "outputs": [
    {
     "name": "stderr",
     "output_type": "stream",
     "text": [
      "c:\\Anaconda3\\lib\\site-packages\\seaborn\\_decorators.py:36: FutureWarning: Pass the following variable as a keyword arg: x. From version 0.12, the only valid positional argument will be `data`, and passing other arguments without an explicit keyword will result in an error or misinterpretation.\n",
      "  warnings.warn(\n"
     ]
    },
    {
     "data": {
      "text/plain": [
       "<AxesSubplot:xlabel='next_mask_need', ylabel='count'>"
      ]
     },
     "execution_count": 9,
     "metadata": {},
     "output_type": "execute_result"
    },
    {
     "data": {
      "image/png": "[encoded data removed]",
      "text/plain": [
       "<Figure size 640x480 with 1 Axes>"
      ]
     },
     "metadata": {},
     "output_type": "display_data"
    }
   ],
   "source": [
    "sns.countplot('next_mask_need', data=df_samp)"
   ]
  },
  {
   "cell_type": "code",
   "execution_count": 11,
   "metadata": {},
   "outputs": [],
   "source": [
    "X = X_samp[col_X]\n",
    "y = y_samp['next_mask_need']"
   ]
  },
  {
   "cell_type": "code",
   "execution_count": 14,
   "metadata": {},
   "outputs": [],
   "source": [
    "from sklearn.model_selection import train_test_split\n",
    "X_train, X_test, y_train, y_test = train_test_split(X, y, test_size=0.3, random_state=2)"
   ]
  },
  {
   "cell_type": "code",
   "execution_count": 15,
   "metadata": {},
   "outputs": [
    {
     "name": "stdout",
     "output_type": "stream",
     "text": [
      "학습용 : 0.8586858685868587\n",
      "검증용 : 0.7651991614255765\n"
     ]
    }
   ],
   "source": [
    "from sklearn.tree import DecisionTreeClassifier\n",
    "model = DecisionTreeClassifier(max_depth=5, random_state=2)\n",
    "model.fit(X_train, y_train)\n",
    "print(\"학습용 :\",model.score(X_train, y_train))\n",
    "print(\"검증용 :\",model.score(X_test, y_test))"
   ]
  },
  {
   "cell_type": "code",
   "execution_count": 16,
   "metadata": {},
   "outputs": [
    {
     "data": {
      "text/plain": [
       "array([[165,  63],\n",
       "       [ 49, 200]], dtype=int64)"
      ]
     },
     "execution_count": 16,
     "metadata": {},
     "output_type": "execute_result"
    }
   ],
   "source": [
    "from sklearn.metrics import confusion_matrix\n",
    "pred = model.predict(X_test)\n",
    "cm = confusion_matrix(y_test, pred)\n",
    "cm"
   ]
  },
  {
   "cell_type": "code",
   "execution_count": 17,
   "metadata": {},
   "outputs": [
    {
     "data": {
      "text/html": [
       "<div>\n",
       "<style scoped>\n",
       "    .dataframe tbody tr th:only-of-type {\n",
       "        vertical-align: middle;\n",
       "    }\n",
       "\n",
       "    .dataframe tbody tr th {\n",
       "        vertical-align: top;\n",
       "    }\n",
       "\n",
       "    .dataframe thead th {\n",
       "        text-align: right;\n",
       "    }\n",
       "</style>\n",
       "<table border=\"1\" class=\"dataframe\">\n",
       "  <thead>\n",
       "    <tr style=\"text-align: right;\">\n",
       "      <th></th>\n",
       "      <th>0</th>\n",
       "      <th>1</th>\n",
       "    </tr>\n",
       "  </thead>\n",
       "  <tbody>\n",
       "    <tr>\n",
       "      <th>0</th>\n",
       "      <td>165</td>\n",
       "      <td>63</td>\n",
       "    </tr>\n",
       "    <tr>\n",
       "      <th>1</th>\n",
       "      <td>49</td>\n",
       "      <td>200</td>\n",
       "    </tr>\n",
       "  </tbody>\n",
       "</table>\n",
       "</div>"
      ],
      "text/plain": [
       "     0    1\n",
       "0  165   63\n",
       "1   49  200"
      ]
     },
     "execution_count": 17,
     "metadata": {},
     "output_type": "execute_result"
    }
   ],
   "source": [
    "df_cm = pd.DataFrame(cm, index=[0, 1], columns=[0, 1])\n",
    "df_cm"
   ]
  },
  {
   "cell_type": "code",
   "execution_count": 18,
   "metadata": {},
   "outputs": [
    {
     "data": {
      "text/plain": [
       "<AxesSubplot:>"
      ]
     },
     "execution_count": 18,
     "metadata": {},
     "output_type": "execute_result"
    },
    {
     "data": {
      "image/png": "[encoded data removed]",
      "text/plain": [
       "<Figure size 640x480 with 2 Axes>"
      ]
     },
     "metadata": {},
     "output_type": "display_data"
    }
   ],
   "source": [
    "sns.heatmap(df_cm, annot=True)"
   ]
  },
  {
   "cell_type": "code",
   "execution_count": 20,
   "metadata": {},
   "outputs": [
    {
     "name": "stdout",
     "output_type": "stream",
     "text": [
      "0.779874213836478\n",
      "2\n"
     ]
    }
   ],
   "source": [
    "scores = []\n",
    "for i in range(1, 25):\n",
    "    model = DecisionTreeClassifier(max_depth=i, random_state=2)\n",
    "    model.fit(X_train, y_train)\n",
    "    scores.append(model.score(X_test, y_test))\n",
    "print(max(scores))\n",
    "print(np.argmax(scores))"
   ]
  },
  {
   "cell_type": "code",
   "execution_count": 21,
   "metadata": {},
   "outputs": [
    {
     "data": {
      "text/plain": [
       "DecisionTreeClassifier(max_depth=2, random_state=2)"
      ]
     },
     "execution_count": 21,
     "metadata": {},
     "output_type": "execute_result"
    }
   ],
   "source": [
    "model = DecisionTreeClassifier(max_depth=2, random_state=2)\n",
    "model.fit(X_train, y_train)"
   ]
  },
  {
   "cell_type": "code",
   "execution_count": 23,
   "metadata": {},
   "outputs": [],
   "source": [
    "PM_10 = 214\n",
    "PM_25 = 48\n",
    "temperatures = [14, 17, 19, 20, 20, 19, 17, 15,\n",
    "                14, 14, 13, 13, 13, 13, 12, 12,\n",
    "                12, 12, 11, 12, 13, 14, 15, 16]\n",
    "rains = [0, 0, 0, 0, 0, 0 ,0, 0,\n",
    "         0, 0, 0, 0, 0, 0, 0, 0,\n",
    "         0, 0, 0, 0, 0, 0, 0, 0]\n",
    "humidities = [24, 20, 15, 15, 15, 20, 20, 30,\n",
    "              35, 35, 35, 40, 45, 45, 50, 50,\n",
    "              60, 60, 60, 60, 55, 50, 45, 45]\n",
    "snows = [0, 0, 0, 0, 0, 0, 0, 0,\n",
    "         0, 0, 0, 0, 0, 0, 0, 0,\n",
    "         0, 0, 0, 0, 0, 0, 0, 0]\n",
    "winds = [0, 0, 0, 0, 0, 0, 6.9, 0,\n",
    "         16, 0, 17, 0, 2, 0, 0, 0]"
   ]
  },
  {
   "cell_type": "code",
   "execution_count": 26,
   "metadata": {},
   "outputs": [],
   "source": [
    "temp = sum(temperatures) / len(temperatures)\n",
    "rain = sum(rains)\n",
    "humid = sum(humidities) / len(humidities)\n",
    "snow = sum(snows)\n",
    "wind = []\n",
    "for w in winds:\n",
    "    wind.append(w/24)"
   ]
  },
  {
   "cell_type": "code",
   "execution_count": 30,
   "metadata": {},
   "outputs": [
    {
     "name": "stderr",
     "output_type": "stream",
     "text": [
      "c:\\Anaconda3\\lib\\site-packages\\sklearn\\base.py:450: UserWarning: X does not have valid feature names, but DecisionTreeClassifier was fitted with feature names\n",
      "  warnings.warn(\n"
     ]
    },
    {
     "data": {
      "text/plain": [
       "array([1], dtype=int64)"
      ]
     },
     "execution_count": 30,
     "metadata": {},
     "output_type": "execute_result"
    }
   ],
   "source": [
    "pre = [PM_10, PM_25, temp, rain, humid, snow] + wind\n",
    "model.predict([pre])"
   ]
  },
  {
   "cell_type": "code",
   "execution_count": null,
   "metadata": {},
   "outputs": [],
   "source": []
  }
 ],
 "metadata": {
  "kernelspec": {
   "display_name": "base",
   "language": "python",
   "name": "python3"
  },
  "language_info": {
   "codemirror_mode": {
    "name": "ipython",
    "version": 3
   },
   "file_extension": ".py",
   "mimetype": "text/x-python",
   "name": "python",
   "nbconvert_exporter": "python",
   "pygments_lexer": "ipython3",
   "version": "3.9.13"
  },
  "orig_nbformat": 4
 },
 "nbformat": 4,
 "nbformat_minor": 2
}
